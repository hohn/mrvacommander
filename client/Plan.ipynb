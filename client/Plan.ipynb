{
 "cells": [
  {
   "cell_type": "markdown",
   "id": "e1c3b239-d45e-43f6-9d2d-64ee46e75e61",
   "metadata": {},
   "source": [
    "1. Find available DBs\n",
    "2. Save list\n",
    "3. Refine selection\n",
    "4. Save selection\n",
    "    1. Generate `databases.json` for use in vs code extension\n",
    "    2. Generate `list-databases.json` for use by gh-mrva client\n"
   ]
  },
  {
   "cell_type": "code",
   "execution_count": 6,
   "id": "042947ea-8514-4318-a768-7826e494dd43",
   "metadata": {},
   "outputs": [],
   "source": [
    "import pandas as pd, numpy as np"
   ]
  }
 ],
 "metadata": {
  "kernelspec": {
   "display_name": "Python 3 (ipykernel)",
   "language": "python",
   "name": "python3"
  },
  "language_info": {
   "codemirror_mode": {
    "name": "ipython",
    "version": 3
   },
   "file_extension": ".py",
   "mimetype": "text/x-python",
   "name": "python",
   "nbconvert_exporter": "python",
   "pygments_lexer": "ipython3",
   "version": "3.11.9"
  }
 },
 "nbformat": 4,
 "nbformat_minor": 5
}
